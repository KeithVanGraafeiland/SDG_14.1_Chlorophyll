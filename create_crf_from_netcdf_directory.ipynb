{
 "cells": [
  {
   "cell_type": "code",
   "execution_count": 11,
   "metadata": {},
   "outputs": [],
   "source": [
    "# import required modules\n",
    "import os\n",
    "import arcpy"
   ]
  },
  {
   "cell_type": "code",
   "execution_count": null,
   "metadata": {},
   "outputs": [],
   "source": [
    "## environmental variables\n",
    "arcpy.env.overwriteOutput = True\n",
    "arcpy.env.parallelProcessingFactor = \"99%\""
   ]
  },
  {
   "cell_type": "code",
   "execution_count": 12,
   "metadata": {},
   "outputs": [],
   "source": [
    "## variables\n",
    "processing_dir = r\"E:\\ChlorA\\Processing\\Reporting2024\"\n",
    "processing_gdbName = \"Processing2024\"\n",
    "processing_gdb = processing_dir + '\\\\' + processing_gdbName + '.gdb'\n",
    "mosaic_name = \"sub1_chlor_a_monthly_1997to2023_PMLv6_0_v2\"\n",
    "mosaic_path = processing_gdb + '\\\\' + mosaic_name\n",
    "PML_rt = r\"C:\\Image_Mgmt_Workflows\\ChlorA\\Parameter\\Rastertype\\PML_chlora_NetCDF.art.xml\"\n",
    "source_data = r\"E:\\ChlorA\\PML\"\n",
    "crf_name = str(processing_dir + '\\\\CRF\\\\' + mosaic_name + \".crf\")"
   ]
  },
  {
   "cell_type": "code",
   "execution_count": 13,
   "metadata": {},
   "outputs": [
    {
     "data": {
      "text/html": [
       "<div class='gpresult'><h2>Messages</h2><div id='messages' data-messages='[\"Start Time: Friday, April 19, 2024 1:09:51 PM\",\"Succeeded at Friday, April 19, 2024 1:09:52 PM (Elapsed Time: 0.58 seconds)\"]' data-show='true'><div id = 'default' /></div></div>"
      ],
      "text/plain": [
       "<Result 'E:\\\\ChlorA\\\\Processing\\\\Reporting2024\\\\Processing2024.gdb'>"
      ]
     },
     "execution_count": 13,
     "metadata": {},
     "output_type": "execute_result"
    }
   ],
   "source": [
    "## create new file geodatabase\n",
    "arcpy.management.CreateFileGDB(\n",
    "    out_folder_path=processing_dir,\n",
    "    out_name=processing_gdbName,\n",
    "    out_version=\"CURRENT\"\n",
    ")"
   ]
  },
  {
   "cell_type": "code",
   "execution_count": 14,
   "metadata": {},
   "outputs": [
    {
     "data": {
      "text/html": [
       "<div class='gpresult'><h2>Messages</h2><div id='messages' data-messages='[\"Start Time: Friday, April 19, 2024 1:09:54 PM\",\"Succeeded at Friday, April 19, 2024 1:09:58 PM (Elapsed Time: 3.22 seconds)\"]' data-show='true'><div id = 'default' /></div></div>"
      ],
      "text/plain": [
       "<Result 'E:\\\\ChlorA\\\\Processing\\\\Reporting2024\\\\Processing2024.gdb\\\\sub1_chlor_a_monthly_1997to2023_PMLv6_0_v2'>"
      ]
     },
     "execution_count": 14,
     "metadata": {},
     "output_type": "execute_result"
    }
   ],
   "source": [
    "## create mosaic\n",
    "arcpy.management.CreateMosaicDataset(\n",
    "    in_workspace=processing_gdb,\n",
    "    in_mosaicdataset_name=mosaic_name,\n",
    "    coordinate_system='GEOGCS[\"GCS_WGS_1984\",DATUM[\"D_WGS_1984\",SPHEROID[\"WGS_1984\",6378137.0,298.257223563]],PRIMEM[\"Greenwich\",0.0],UNIT[\"Degree\",0.0174532925199433]]',\n",
    "    num_bands=None,\n",
    "    pixel_type=\"\",\n",
    "    product_definition=\"NONE\",\n",
    "    product_band_definitions=None\n",
    ")"
   ]
  },
  {
   "cell_type": "code",
   "execution_count": 17,
   "metadata": {},
   "outputs": [
    {
     "data": {
      "text/html": [
       "<div class='gpresult'><h2>Messages</h2><div id='messages' data-messages='[\"Start Time: Friday, April 19, 2024 1:18:18 PM\",\"2024-04-19T13:18:25.020: Loading raster datasets\",\"2024-04-19T13:18:41.152: Completed crawling 316 data source items. Added 316 mosaic dataset items.\",\"2024-04-19T13:18:41.154: Synchronizing crawled data source items\",\"2024-04-19T13:18:41.166: Synchronizing items associated with raster type instance &#39;NetCDF&#39; [ID: 1].\",\"2024-04-19T13:18:41.170: Distributing mosaic dataset operation across 8 parallel instances on the specified host: [EC2AMAZ-99LSEF7].\",\"2024-04-19T13:18:47.729: Populating auxiliary fields.\",\"2024-04-19T13:18:49.254: Completed synchronization: 316 items selected, 316 items synchronized.\",\"2024-04-19T13:18:49.380: Computing cell size levels\",\"2024-04-19T13:18:49.380: Computing unique cell size values\",\"2024-04-19T13:18:49.917: Computing maximum cell size values\",\"2024-04-19T13:18:49.920: Computing minimum cell size values\",\"2024-04-19T13:18:49.923: Updating visibility values of selected items\",\"2024-04-19T13:18:49.967: Computing maximum cell size for mosaic dataset\",\"2024-04-19T13:18:49.974: Completed computing cell size ranges.\",\"2024-04-19T13:18:50.052: Completed building boundary.\",\"Succeeded at Friday, April 19, 2024 1:18:52 PM (Elapsed Time: 33.90 seconds)\"]' data-show='true'><div id = 'default' /></div></div>"
      ],
      "text/plain": [
       "<Result 'E:\\\\ChlorA\\\\Processing\\\\Reporting2024\\\\Processing2024.gdb\\\\sub1_chlor_a_monthly_1997to2023_PMLv6_0_v2'>"
      ]
     },
     "execution_count": 17,
     "metadata": {},
     "output_type": "execute_result"
    }
   ],
   "source": [
    "## add rasters to mosaic\n",
    "arcpy.management.AddRastersToMosaicDataset(\n",
    "    in_mosaic_dataset=mosaic_path,\n",
    "    raster_type=PML_rt,\n",
    "    input_path=source_data,\n",
    "    update_cellsize_ranges=\"UPDATE_CELL_SIZES\",\n",
    "    update_boundary=\"UPDATE_BOUNDARY\",\n",
    "    update_overviews=\"NO_OVERVIEWS\",\n",
    "    maximum_pyramid_levels=None,\n",
    "    maximum_cell_size=0,\n",
    "    minimum_dimension=1500,\n",
    "    spatial_reference=None,\n",
    "    filter=\"*.nc;*.nc4\",\n",
    "    sub_folder=\"SUBFOLDERS\",\n",
    "    duplicate_items_action=\"ALLOW_DUPLICATES\",\n",
    "    build_pyramids=\"NO_PYRAMIDS\",\n",
    "    calculate_statistics=\"NO_STATISTICS\",\n",
    "    build_thumbnails=\"NO_THUMBNAILS\",\n",
    "    operation_description=\"\",\n",
    "    force_spatial_reference=\"NO_FORCE_SPATIAL_REFERENCE\",\n",
    "    estimate_statistics=\"NO_STATISTICS\",\n",
    "    aux_inputs=None,\n",
    "    enable_pixel_cache=\"NO_PIXEL_CACHE\",\n",
    "    cache_location=r\"C:\\Users\\Administrator\\AppData\\Local\\ESRI\\rasterproxies\\PML\"\n",
    ")"
   ]
  },
  {
   "cell_type": "code",
   "execution_count": 18,
   "metadata": {},
   "outputs": [
    {
     "data": {
      "text/html": [
       "<div class='gpresult'><h2>Messages</h2><div id='messages' data-messages='[\"Start Time: Friday, April 19, 2024 1:20:29 PM\",\"Succeeded at Friday, April 19, 2024 1:20:32 PM (Elapsed Time: 3.16 seconds)\"]' data-show='true'><div id = 'default' /></div></div>"
      ],
      "text/plain": [
       "<Result 'E:\\\\ChlorA\\\\Processing\\\\Reporting2024\\\\Processing2024.gdb\\\\sub1_chlor_a_monthly_1997to2023_PMLv6_0_v2'>"
      ]
     },
     "execution_count": 18,
     "metadata": {},
     "output_type": "execute_result"
    }
   ],
   "source": [
    "## set mosaic dataset properties\n",
    "arcpy.management.SetMosaicDatasetProperties(\n",
    "    in_mosaic_dataset=mosaic_path,\n",
    "    rows_maximum_imagesize=5000,\n",
    "    columns_maximum_imagesize=5000,\n",
    "    allowed_compressions=\"None;JPEG;LERC\",\n",
    "    default_compression_type=\"LERC\",\n",
    "    JPEG_quality=85,\n",
    "    LERC_Tolerance=0.01,\n",
    "    resampling_type=\"BILINEAR\",\n",
    "    clip_to_footprints=\"CLIP\",\n",
    "    footprints_may_contain_nodata=\"FOOTPRINTS_DO_NOT_CONTAIN_NODATA\",\n",
    "    clip_to_boundary=\"CLIP\",\n",
    "    color_correction=\"NOT_APPLY\",\n",
    "    allowed_mensuration_capabilities=None,\n",
    "    default_mensuration_capabilities=\"NONE\",\n",
    "    allowed_mosaic_methods=\"LockRaster;ByAttribute\",\n",
    "    default_mosaic_method=\"ByAttribute\",\n",
    "    order_field=\"\",\n",
    "    order_base=\"\",\n",
    "    sorting_order=\"ASCENDING\",\n",
    "    mosaic_operator=\"FIRST\",\n",
    "    blend_width=0,\n",
    "    view_point_x=600,\n",
    "    view_point_y=300,\n",
    "    max_num_per_mosaic=20,\n",
    "    cell_size_tolerance=0.8,\n",
    "    cell_size=\"0 0\",\n",
    "    metadata_level=\"Basic\",\n",
    "    transmission_fields=\"Name;MinPS;MaxPS;LowPS;HighPS;Tag;GroupName;ProductName;CenterX;CenterY;ZOrder;Shape_Length;Shape_Area\",\n",
    "    use_time=\"ENABLED\",\n",
    "    start_time_field=\"StdTime\",\n",
    "    end_time_field=\"StdTime\",\n",
    "    time_format=\"YYYY/MM\",\n",
    "    geographic_transform=None,\n",
    "    max_num_of_download_items=20,\n",
    "    max_num_of_records_returned=1000,\n",
    "    data_source_type=\"SCIENTIFIC\",\n",
    "    minimum_pixel_contribution=1,\n",
    "    processing_templates=\"None\",\n",
    "    default_processing_template=\"None\",\n",
    "    time_interval=1,\n",
    "    time_interval_units=\"Months\",\n",
    "    product_definition=\"NONE\",\n",
    "    product_band_definitions=None\n",
    ")"
   ]
  },
  {
   "cell_type": "code",
   "execution_count": 19,
   "metadata": {},
   "outputs": [
    {
     "data": {
      "text/html": [
       "<div class='gpresult'><h2>Messages</h2><div id='messages' data-messages='[\"Start Time: Friday, April 19, 2024 1:20:41 PM\",\"Succeeded at Friday, April 19, 2024 1:20:44 PM (Elapsed Time: 2.85 seconds)\"]' data-show='true'><div id = 'default' /></div></div>"
      ],
      "text/plain": [
       "<Result 'E:\\\\ChlorA\\\\Processing\\\\Reporting2024\\\\Processing2024.gdb\\\\sub1_chlor_a_monthly_1997to2023_PMLv6_0_v2'>"
      ]
     },
     "execution_count": 19,
     "metadata": {},
     "output_type": "execute_result"
    }
   ],
   "source": [
    "arcpy.management.AddIndex(mosaic_path, [\"StdTime\"], \"StdTime_index\", \"UNIQUE\", \"ASCENDING\")"
   ]
  },
  {
   "cell_type": "code",
   "execution_count": 21,
   "metadata": {},
   "outputs": [],
   "source": [
    "## copy to crf \n",
    "arcpy.management.CopyRaster(\n",
    "    in_raster=mosaic_path,\n",
    "    out_rasterdataset=crf_name,\n",
    "    config_keyword=\"\",\n",
    "    background_value=None,\n",
    "    nodata_value=\"\",\n",
    "    onebit_to_eightbit=\"NONE\",\n",
    "    colormap_to_RGB=\"NONE\",\n",
    "    pixel_type=\"32_BIT_FLOAT\",\n",
    "    scale_pixel_value=\"NONE\",\n",
    "    RGB_to_Colormap=\"NONE\",\n",
    "    format=\"CRF\",\n",
    "    transform=\"NONE\",\n",
    "    process_as_multidimensional=\"ALL_SLICES\",\n",
    "    build_multidimensional_transpose=\"TRANSPOSE\")"
   ]
  }
 ],
 "metadata": {
  "kernelspec": {
   "display_name": "Python 3",
   "language": "python",
   "name": "python3"
  },
  "language_info": {
   "codemirror_mode": {
    "name": "ipython",
    "version": 3
   },
   "file_extension": ".py",
   "mimetype": "text/x-python",
   "name": "python",
   "nbconvert_exporter": "python",
   "pygments_lexer": "ipython3",
   "version": "3.9.18"
  }
 },
 "nbformat": 4,
 "nbformat_minor": 2
}
