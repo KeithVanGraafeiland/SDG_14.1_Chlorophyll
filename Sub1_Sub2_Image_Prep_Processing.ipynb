{
 "cells": [
  {
   "cell_type": "code",
   "execution_count": null,
   "metadata": {},
   "outputs": [],
   "source": [
    "# import required modules\n",
    "import os\n",
    "import arcpy\n",
    "arcpy.env.overwriteOutput = True\n",
    "\n",
    "dir_root = r'E:\\\\ChlorA\\\\PML\\\\monthly\\\\chlor_a\\\\'\n",
    "years = [1997,1998,1999,2000,2001,2002,2003,2004,2005,2006,2007,2008,2009,2010,2011,2012,2013,2014,2015,2016,2017,2018,2019,2020,2021,2022,2023]\n",
    "\n",
    "# [print(x) for x in years]\n",
    "for (x) in years:\n",
    "    print(x)\n",
    "    directory = str(dir_root) + str((x)) + str('\\\\')\n",
    "    print(directory)\n",
    "## iterate over files in that directory\n",
    "    for nc_file in os.scandir(directory):\n",
    "     if nc_file.is_file():\n",
    "         print(nc_file.path)\n",
    "         nc_filename = (os.path.basename(nc_file).split('\\\\')[-1])\n",
    "         print(nc_filename)\n",
    "         tif_filename = r'E:\\\\ChlorA\\\\PML\\\\6.0\\\\' + nc_filename.split('.',1)[0] + \".0.tif\"\n",
    "         print(tif_filename)\n",
    "         ras = \"in_memory/ras\"\n",
    "         print(\"Processing: \" + nc_filename)\n",
    "         arcpy.md.MakeNetCDFRasterLayer(nc_file.path, \"chlor_a\", \"lon\", \"lat\", ras, '', '', \"BY_VALUE\", \"CENTER\")\n",
    "         arcpy.Raster(ras).save(tif_filename)"
   ]
  },
  {
   "cell_type": "code",
   "execution_count": null,
   "metadata": {},
   "outputs": [],
   "source": [
    "sub2_dir_root = r'E:\\\\ChlorA\\\\NESDIS\\\\coastwatch\\\\viirs\\\\science\\\\L3\\\\global\\\\chlora\\\\anom\\\\WW00\\\\'\n",
    "sub2_years = [2018,2019,2020,2021,2022,2023,2024]\n",
    "\n",
    "for (x) in sub2_years:\n",
    "    print(x)\n",
    "    directory = str(sub2_dir_root) + str((x)) + str('\\\\')\n",
    "    print(directory)\n",
    "    for sub2_nc_file in os.scandir(directory):\n",
    "     if sub2_nc_file.is_file() and sub2_nc_file.name.endswith('pdif.nc'):\n",
    "         print(sub2_nc_file.path)\n",
    "         sub2_nc_filename = (os.path.basename(sub2_nc_file).split('\\\\')[-1])\n",
    "         print(sub2_nc_filename)\n",
    "         tif_filename = r'E:\\\\ChlorA\\\\NESDIS\\\\2024_Reporting\\\\' + sub2_nc_filename.split('.',1)[0] + \".tif\"\n",
    "         print(tif_filename)\n",
    "         ras = \"in_memory/ras\"\n",
    "         arcpy.md.MakeNetCDFRasterLayer(sub2_nc_file.path, \"chlor_a_pdif\", \"lon\", \"lat\", ras, '', None, \"BY_VALUE\", \"CENTER\")\n",
    "         arcpy.Raster(ras).save(tif_filename)\n",
    "         arcpy.management.BuildPyramids(tif_filename,-1, \"NONE\", \"NEAREST\", \"DEFAULT\", 75, \"OVERWRITE\")\n",
    "         con_raster = arcpy.sa.Con(tif_filename, tif_filename, None, \"VALUE >= -20 And VALUE <= 20\")\n",
    "         con_raster.save(tif_filename.split(\".\")[0] + \"_con.tif\")\n",
    "         arcpy.management.Delete(tif_filename)"
   ]
  },
  {
   "cell_type": "code",
   "execution_count": 23,
   "metadata": {},
   "outputs": [
    {
     "data": {
      "text/html": [
       "<div class='gpresult'><h2>Messages</h2><div id='messages' data-messages='[\"Start Time: Thursday, April 11, 2024 10:15:13 PM\",\"Succeeded at Thursday, April 11, 2024 10:15:14 PM (Elapsed Time: 0.27 seconds)\"]' data-show='true'><div id = 'default' /></div></div>"
      ],
      "text/plain": [
       "<Result 'E:\\\\ChlorA\\\\Processing\\\\Reporting2024\\\\Processing2024.gdb'>"
      ]
     },
     "execution_count": 23,
     "metadata": {},
     "output_type": "execute_result"
    }
   ],
   "source": [
    "## add PML rasters to a new geodatabase and mosaic\n",
    "processing_dir = r\"E:\\ChlorA\\Processing\\Reporting2024\"\n",
    "processing_gdbName = \"Processing2024\"\n",
    "processing_gdb = processing_dir + '\\\\' + processing_gdbName + '.gdb'\n",
    "\n",
    "arcpy.management.CreateFileGDB(\n",
    "    out_folder_path=processing_dir,\n",
    "    out_name=processing_gdbName,\n",
    "    out_version=\"CURRENT\"\n",
    ")"
   ]
  },
  {
   "cell_type": "code",
   "execution_count": 24,
   "metadata": {},
   "outputs": [
    {
     "data": {
      "text/html": [
       "<div class='gpresult'><h2>Messages</h2><div id='messages' data-messages='[\"Start Time: Thursday, April 11, 2024 10:15:16 PM\",\"Succeeded at Thursday, April 11, 2024 10:15:19 PM (Elapsed Time: 2.95 seconds)\"]' data-show='true'><div id = 'default' /></div></div>"
      ],
      "text/plain": [
       "<Result 'E:\\\\ChlorA\\\\Processing\\\\Reporting2024\\\\Processing2024.gdb\\\\sub1_chlor_a_monthly_1997to2023_PMLv6_0'>"
      ]
     },
     "execution_count": 24,
     "metadata": {},
     "output_type": "execute_result"
    }
   ],
   "source": [
    "mosaic_name = \"sub1_chlor_a_monthly_1997to2023_PMLv6_0\"\n",
    "mosaic_path = processing_gdb + '\\\\' + mosaic_name\n",
    "\n",
    "arcpy.management.CreateMosaicDataset(\n",
    "    in_workspace=processing_gdb,\n",
    "    in_mosaicdataset_name=mosaic_name,\n",
    "    coordinate_system='GEOGCS[\"GCS_WGS_1984\",DATUM[\"D_WGS_1984\",SPHEROID[\"WGS_1984\",6378137.0,298.257223563]],PRIMEM[\"Greenwich\",0.0],UNIT[\"Degree\",0.0174532925199433]]',\n",
    "    num_bands=None,\n",
    "    pixel_type=\"\",\n",
    "    product_definition=\"NONE\",\n",
    "    product_band_definitions=None\n",
    ")"
   ]
  },
  {
   "cell_type": "code",
   "execution_count": 25,
   "metadata": {},
   "outputs": [
    {
     "data": {
      "text/html": [
       "<div class='gpresult'><h2>Messages</h2><div id='messages' data-messages='[\"Start Time: Thursday, April 11, 2024 10:19:49 PM\",\"2024-04-11T22:19:55.327: Loading raster datasets\",\"2024-04-11T22:19:55.645: Completed crawling 316 data source items. Added 316 mosaic dataset items.\",\"2024-04-11T22:19:55.645: Synchronizing crawled data source items\",\"2024-04-11T22:19:55.655: Synchronizing items associated with raster type instance &#39;Raster Dataset&#39; [ID: 1].\",\"2024-04-11T22:19:55.658: Distributing mosaic dataset operation across 8 parallel instances on the specified host: [EC2AMAZ-99LSEF7].\",\"2024-04-11T22:20:27.372: Estimating raster statistics for mosaic dataset.\",\"2024-04-11T22:20:27.628: Completed synchronization: 316 items selected, 316 items synchronized.\",\"2024-04-11T22:20:27.629: Processing duplicate mosaic dataset items\",\"2024-04-11T22:20:27.886: Updated 0 existing duplicate items. Removed 0 duplicate mosaic dataset items.\",\"2024-04-11T22:20:28.082: Computing cell size levels\",\"2024-04-11T22:20:28.082: Computing unique cell size values\",\"2024-04-11T22:20:28.415: Computing maximum cell size values\",\"2024-04-11T22:20:28.417: Computing minimum cell size values\",\"2024-04-11T22:20:28.419: Updating visibility values of selected items\",\"2024-04-11T22:20:28.462: Computing maximum cell size for mosaic dataset\",\"2024-04-11T22:20:28.468: Completed computing cell size ranges.\",\"2024-04-11T22:20:28.530: Completed building boundary.\",\"Succeeded at Thursday, April 11, 2024 10:20:30 PM (Elapsed Time: 41.47 seconds)\"]' data-show='true'><div id = 'default' /></div></div>"
      ],
      "text/plain": [
       "<Result 'E:\\\\ChlorA\\\\Processing\\\\Reporting2024\\\\Processing2024.gdb\\\\sub1_chlor_a_monthly_1997to2023_PMLv6_0'>"
      ]
     },
     "execution_count": 25,
     "metadata": {},
     "output_type": "execute_result"
    }
   ],
   "source": [
    "arcpy.management.AddRastersToMosaicDataset(\n",
    "    in_mosaic_dataset=mosaic_path,\n",
    "    raster_type=\"Raster Dataset\",\n",
    "    input_path=r\"E:\\ChlorA\\Processing\\Reporting2024\\PML\",\n",
    "    update_cellsize_ranges=\"UPDATE_CELL_SIZES\",\n",
    "    update_boundary=\"UPDATE_BOUNDARY\",\n",
    "    update_overviews=\"NO_OVERVIEWS\",\n",
    "    maximum_pyramid_levels=None,\n",
    "    maximum_cell_size=0,\n",
    "    minimum_dimension=1500,\n",
    "    spatial_reference=None,\n",
    "    filter=\"\",\n",
    "    sub_folder=\"SUBFOLDERS\",\n",
    "    duplicate_items_action=\"OVERWRITE_DUPLICATES\",\n",
    "    build_pyramids=\"BUILD_PYRAMIDS\",\n",
    "    calculate_statistics=\"CALCULATE_STATISTICS\",\n",
    "    build_thumbnails=\"NO_THUMBNAILS\",\n",
    "    operation_description=\"\",\n",
    "    force_spatial_reference=\"NO_FORCE_SPATIAL_REFERENCE\",\n",
    "    estimate_statistics=\"ESTIMATE_STATISTICS\",\n",
    "    aux_inputs=None,\n",
    "    enable_pixel_cache=\"NO_PIXEL_CACHE\",\n",
    "    cache_location=r\"C:\\Users\\Administrator\\AppData\\Local\\ESRI\\rasterproxies\\sub1_chlor_a_monthly_1997to2023_PMLv6_0\"\n",
    ")"
   ]
  },
  {
   "cell_type": "code",
   "execution_count": 27,
   "metadata": {},
   "outputs": [
    {
     "data": {
      "text/html": [
       "<div class='gpresult'><h2>Messages</h2><div id='messages' data-messages='[\"Start Time: Thursday, April 11, 2024 10:21:17 PM\",\"Succeeded at Thursday, April 11, 2024 10:21:20 PM (Elapsed Time: 3.15 seconds)\"]' data-show='true'><div id = 'default' /></div></div>"
      ],
      "text/plain": [
       "<Result 'E:\\\\ChlorA\\\\Processing\\\\Reporting2024\\\\Processing2024.gdb\\\\sub2_chlor_a_daily_pdif_2018to2023_VIIRS'>"
      ]
     },
     "execution_count": 27,
     "metadata": {},
     "output_type": "execute_result"
    }
   ],
   "source": [
    "mosaic_name = \"sub2_chlor_a_daily_pdif_2018to2023_VIIRS\"\n",
    "VIIRSmosaic_path = processing_gdb + '\\\\' + mosaic_name\n",
    "\n",
    "arcpy.management.CreateMosaicDataset(\n",
    "    in_workspace=processing_gdb,\n",
    "    in_mosaicdataset_name=mosaic_name,\n",
    "    coordinate_system='GEOGCS[\"GCS_WGS_1984\",DATUM[\"D_WGS_1984\",SPHEROID[\"WGS_1984\",6378137.0,298.257223563]],PRIMEM[\"Greenwich\",0.0],UNIT[\"Degree\",0.0174532925199433]]',\n",
    "    num_bands=None,\n",
    "    pixel_type=\"\",\n",
    "    product_definition=\"NONE\",\n",
    "    product_band_definitions=None)"
   ]
  },
  {
   "cell_type": "code",
   "execution_count": 29,
   "metadata": {},
   "outputs": [
    {
     "data": {
      "text/html": [
       "<div class='gpresult'><h2>Messages</h2><div id='messages' data-messages='[\"Start Time: Thursday, April 11, 2024 10:21:38 PM\",\"2024-04-11T22:21:45.090: Loading raster datasets\",\"2024-04-11T22:21:47.186: Completed crawling 2281 data source items. Added 2281 mosaic dataset items.\",\"2024-04-11T22:21:47.188: Synchronizing crawled data source items\",\"2024-04-11T22:21:47.201: Synchronizing items associated with raster type instance &#39;Raster Dataset&#39; [ID: 1].\",\"2024-04-11T22:21:47.205: Distributing mosaic dataset operation across 8 parallel instances on the specified host: [EC2AMAZ-99LSEF7].\",\"2024-04-11T23:52:39.583: Estimating raster statistics for mosaic dataset.\",\"2024-04-11T23:52:40.039: Completed synchronization: 2281 items selected, 2281 items synchronized.\",\"2024-04-11T23:52:40.039: Processing duplicate mosaic dataset items\",\"2024-04-11T23:52:41.872: Updated 0 existing duplicate items. Removed 0 duplicate mosaic dataset items.\",\"2024-04-11T23:52:42.117: Computing cell size levels\",\"2024-04-11T23:52:42.117: Computing unique cell size values\",\"2024-04-11T23:52:45.531: Computing maximum cell size values\",\"2024-04-11T23:52:45.535: Computing minimum cell size values\",\"2024-04-11T23:52:45.538: Updating visibility values of selected items\",\"2024-04-11T23:52:45.851: Computing maximum cell size for mosaic dataset\",\"2024-04-11T23:52:45.862: Completed computing cell size ranges.\",\"2024-04-11T23:52:46.121: Completed building boundary.\",\"Succeeded at Thursday, April 11, 2024 11:52:48 PM (Elapsed Time: 1 hours 31 minutes 9 seconds)\"]' data-show='true'><div id = 'default' /></div></div>"
      ],
      "text/plain": [
       "<Result 'E:\\\\ChlorA\\\\Processing\\\\Reporting2024\\\\Processing2024.gdb\\\\sub2_chlor_a_daily_pdif_2018to2023_VIIRS'>"
      ]
     },
     "execution_count": 29,
     "metadata": {},
     "output_type": "execute_result"
    }
   ],
   "source": [
    "arcpy.management.AddRastersToMosaicDataset(\n",
    "    in_mosaic_dataset=VIIRSmosaic_path,\n",
    "    raster_type=\"Raster Dataset\",\n",
    "    input_path=r\"E:\\ChlorA\\NESDIS\\2024_Reporting\",\n",
    "    update_cellsize_ranges=\"UPDATE_CELL_SIZES\",\n",
    "    update_boundary=\"UPDATE_BOUNDARY\",\n",
    "    update_overviews=\"NO_OVERVIEWS\",\n",
    "    maximum_pyramid_levels=None,\n",
    "    maximum_cell_size=0,\n",
    "    minimum_dimension=1500,\n",
    "    spatial_reference=None,\n",
    "    filter=\"\",\n",
    "    sub_folder=\"SUBFOLDERS\",\n",
    "    duplicate_items_action=\"OVERWRITE_DUPLICATES\",\n",
    "    build_pyramids=\"BUILD_PYRAMIDS\",\n",
    "    calculate_statistics=\"CALCULATE_STATISTICS\",\n",
    "    build_thumbnails=\"NO_THUMBNAILS\",\n",
    "    operation_description=\"\",\n",
    "    force_spatial_reference=\"NO_FORCE_SPATIAL_REFERENCE\",\n",
    "    estimate_statistics=\"ESTIMATE_STATISTICS\",\n",
    "    aux_inputs=None,\n",
    "    enable_pixel_cache=\"NO_PIXEL_CACHE\",\n",
    "    cache_location=r\"C:\\Users\\Administrator\\AppData\\Local\\ESRI\\rasterproxies\\sub2_chlor_a_daily_pdif_2018to2023_VIIRS\")"
   ]
  },
  {
   "cell_type": "code",
   "execution_count": 64,
   "metadata": {},
   "outputs": [
    {
     "name": "stdout",
     "output_type": "stream",
     "text": [
      "2018\n",
      "001\n",
      "01-01-2018\n"
     ]
    }
   ],
   "source": [
    "from datetime import datetime\n",
    "\n",
    "name = 'V2018001_D1_WW00_chlorapdif_con'\n",
    "day_num = (int(name[5:8]))\n",
    "year_num = (int(name[1:5]))\n",
    "res = datetime.strptime(str(year_num) + \"-\" + str(day_num), \"%Y-%j\").strftime(\"%m-%d-%Y\")\n",
    "print(res)"
   ]
  },
  {
   "cell_type": "code",
   "execution_count": 67,
   "metadata": {},
   "outputs": [
    {
     "data": {
      "text/html": [
       "<div class='gpresult'><h2>Messages</h2><div id='messages' data-messages='[\"Start Time: Friday, April 12, 2024 5:11:29 PM\",\"Succeeded at Friday, April 12, 2024 5:11:34 PM (Elapsed Time: 4.62 seconds)\"]' data-show='true'><div id = 'default' /></div></div>"
      ],
      "text/plain": [
       "<Result 'E:\\\\ChlorA\\\\Processing\\\\Reporting2024\\\\Processing2024.gdb\\\\sub2_chlor_a_daily_pdif_2018to2023_VIIRS'>"
      ]
     },
     "execution_count": 67,
     "metadata": {},
     "output_type": "execute_result"
    }
   ],
   "source": [
    "arcpy.management.CalculateField(\n",
    "    in_table=VIIRSmosaic_path,\n",
    "    field=\"acquisition_date\",\n",
    "    expression=\"calc_date(!Name!)\",\n",
    "    expression_type=\"PYTHON3\",\n",
    "    code_block=\"\"\"def calc_date(Name):\n",
    "    day_num = (int(Name[5:8]))\n",
    "    year_num = (int(Name[1:5]))\n",
    "    esri_date = datetime.strptime(str(year_num) + \"-\" + str(day_num), \"%Y-%j\").strftime(\"%m/%d/%Y\")\n",
    "    return(esri_date)\n",
    "    \"\"\",\n",
    "    field_type=\"DATE\",\n",
    "    enforce_domains=\"NO_ENFORCE_DOMAINS\"\n",
    ")"
   ]
  },
  {
   "cell_type": "code",
   "execution_count": 68,
   "metadata": {},
   "outputs": [
    {
     "data": {
      "text/html": [
       "<div class='gpresult'><h2>Messages</h2><div id='messages' data-messages='[\"Start Time: Friday, April 12, 2024 5:15:18 PM\",\"Adding variable to AMD_sub2_chlor_a_daily_pdif_2018to2023_VIIRS_CAT...\",\"Succeeded at Friday, April 12, 2024 5:15:23 PM (Elapsed Time: 5.13 seconds)\"]' data-show='true'><div id = 'default' /></div></div>"
      ],
      "text/plain": [
       "<Result 'E:\\\\ChlorA\\\\Processing\\\\Reporting2024\\\\Processing2024.gdb\\\\sub2_chlor_a_daily_pdif_2018to2023_VIIRS'>"
      ]
     },
     "execution_count": 68,
     "metadata": {},
     "output_type": "execute_result"
    }
   ],
   "source": [
    "arcpy.management.CalculateField(\n",
    "    in_table=VIIRSmosaic_path,\n",
    "    field=\"variable\",\n",
    "    expression='\"chlor-a pdif\"',\n",
    "    expression_type=\"PYTHON3\",\n",
    "    code_block=\"\",\n",
    "    field_type=\"TEXT\",\n",
    "    enforce_domains=\"NO_ENFORCE_DOMAINS\"\n",
    ")"
   ]
  },
  {
   "cell_type": "code",
   "execution_count": 53,
   "metadata": {},
   "outputs": [
    {
     "data": {
      "text/html": [
       "<div class='gpresult'><h2>Messages</h2><div id='messages' data-messages='[\"Start Time: Friday, April 12, 2024 12:29:48 PM\",\"Adding variable to AMD_sub1_chlor_a_monthly_1997to2023_PMLv6_0_CAT...\",\"Succeeded at Friday, April 12, 2024 12:29:53 PM (Elapsed Time: 5.17 seconds)\"]' data-show='true'><div id = 'default' /></div></div>"
      ],
      "text/plain": [
       "<Result 'E:\\\\ChlorA\\\\Processing\\\\Reporting2024\\\\Processing2024.gdb\\\\sub1_chlor_a_monthly_1997to2023_PMLv6_0'>"
      ]
     },
     "execution_count": 53,
     "metadata": {},
     "output_type": "execute_result"
    }
   ],
   "source": [
    "arcpy.management.CalculateField(\n",
    "    in_table=mosaic_path,\n",
    "    field=\"variable\",\n",
    "    expression='\"chlorophyll-a\"',\n",
    "    expression_type=\"PYTHON3\",\n",
    "    code_block=\"\",\n",
    "    field_type=\"TEXT\",\n",
    "    enforce_domains=\"NO_ENFORCE_DOMAINS\"\n",
    ")"
   ]
  },
  {
   "cell_type": "code",
   "execution_count": 55,
   "metadata": {},
   "outputs": [
    {
     "data": {
      "text/html": [
       "<div class='gpresult'><h2>Messages</h2><div id='messages' data-messages='[\"Start Time: Friday, April 12, 2024 12:35:07 PM\",\"Succeeded at Friday, April 12, 2024 12:35:11 PM (Elapsed Time: 4.00 seconds)\"]' data-show='true'><div id = 'default' /></div></div>"
      ],
      "text/plain": [
       "<Result 'E:\\\\ChlorA\\\\Processing\\\\Reporting2024\\\\Processing2024.gdb\\\\sub1_chlor_a_monthly_1997to2023_PMLv6_0'>"
      ]
     },
     "execution_count": 55,
     "metadata": {},
     "output_type": "execute_result"
    }
   ],
   "source": [
    "arcpy.md.BuildMultidimensionalInfo(\n",
    "    in_mosaic_dataset=mosaic_path,\n",
    "    variable_field=\"variable\",\n",
    "    dimension_fields=\"acquisition_date acquisition_month Months\",\n",
    "    variable_desc_units=\"chlorophyll-a 'Chlorophyll-a concentration in seawater' 'milligram m-3'\",\n",
    "    delete_multidimensional_info=\"NO_DELETE_MULTIDIMENSIONAL_INFO\"\n",
    ")"
   ]
  },
  {
   "cell_type": "code",
   "execution_count": 69,
   "metadata": {},
   "outputs": [
    {
     "data": {
      "text/html": [
       "<div class='gpresult'><h2>Messages</h2><div id='messages' data-messages='[\"Start Time: Friday, April 12, 2024 5:19:10 PM\",\"Succeeded at Friday, April 12, 2024 5:19:20 PM (Elapsed Time: 10.05 seconds)\"]' data-show='true'><div id = 'default' /></div></div>"
      ],
      "text/plain": [
       "<Result 'E:\\\\ChlorA\\\\Processing\\\\Reporting2024\\\\Processing2024.gdb\\\\sub2_chlor_a_daily_pdif_2018to2023_VIIRS'>"
      ]
     },
     "execution_count": 69,
     "metadata": {},
     "output_type": "execute_result"
    }
   ],
   "source": [
    "arcpy.md.BuildMultidimensionalInfo(\n",
    "    in_mosaic_dataset=VIIRSmosaic_path,\n",
    "    variable_field=\"variable\",\n",
    "    dimension_fields=\"acquisition_date acquisition_day Days\",\n",
    "    variable_desc_units=\"chlor-a pdif 'Ratio of chlorophyll-a anomaly over 61 day composite' 'ratio'\",\n",
    "    delete_multidimensional_info=\"NO_DELETE_MULTIDIMENSIONAL_INFO\"\n",
    ")"
   ]
  },
  {
   "cell_type": "code",
   "execution_count": null,
   "metadata": {},
   "outputs": [],
   "source": [
    "arcpy.management.AddIndex(\n",
    "    in_table=mosaic_path,\n",
    "    fields=\"StdTime\",\n",
    "    index_name=\"Time_Index\",\n",
    "    unique=\"NON_UNIQUE\",\n",
    "    ascending=\"NON_ASCENDING\"\n",
    ")"
   ]
  },
  {
   "cell_type": "code",
   "execution_count": 70,
   "metadata": {},
   "outputs": [
    {
     "data": {
      "text/html": [
       "<div class='gpresult'><h2>Messages</h2><div id='messages' data-messages='[\"Start Time: Friday, April 12, 2024 5:20:42 PM\",\"Succeeded at Friday, April 12, 2024 5:20:45 PM (Elapsed Time: 2.92 seconds)\"]' data-show='true'><div id = 'default' /></div></div>"
      ],
      "text/plain": [
       "<Result 'E:\\\\ChlorA\\\\Processing\\\\Reporting2024\\\\Processing2024.gdb\\\\sub2_chlor_a_daily_pdif_2018to2023_VIIRS'>"
      ]
     },
     "execution_count": 70,
     "metadata": {},
     "output_type": "execute_result"
    }
   ],
   "source": [
    "arcpy.management.AddIndex(\n",
    "    in_table=VIIRSmosaic_path,\n",
    "    fields=\"StdTime\",\n",
    "    index_name=\"Time_Index\",\n",
    "    unique=\"NON_UNIQUE\",\n",
    "    ascending=\"NON_ASCENDING\"\n",
    ")"
   ]
  },
  {
   "cell_type": "code",
   "execution_count": 71,
   "metadata": {},
   "outputs": [
    {
     "name": "stdout",
     "output_type": "stream",
     "text": [
      "E:\\ChlorA\\Processing\\Reporting2024\\CRF\\sub2_chlor_a_daily_pdif_2018to2023_VIIRS.crf\n"
     ]
    }
   ],
   "source": [
    "print(processing_dir + '\\\\CRF\\\\' + mosaic_name + \".crf\")"
   ]
  },
  {
   "cell_type": "code",
   "execution_count": 57,
   "metadata": {},
   "outputs": [
    {
     "data": {
      "text/html": [
       "<div class='gpresult'><h2>Messages</h2><div id='messages' data-messages='[\"Start Time: Friday, April 12, 2024 12:44:05 PM\",\"Building Pyramids...\",\"Calculating Statistics...\",\"Building Multidimensional Transpose...\",\"WARNING 003486: The following template will not be saved to the output raster dataset because definition queries are not supported by the output - \\\"chlorophyll-a\\\"\",\"Succeeded at Friday, April 12, 2024 2:49:17 PM (Elapsed Time: 2 hours 5 minutes 12 seconds)\"]' data-show='true'><div id = 'default' /></div></div>"
      ],
      "text/plain": [
       "<Result 'E:\\\\ChlorA\\\\Processing\\\\Reporting2024\\\\CRF\\\\sub2_chlor_a_daily_pdif_2018to2023_VIIRS.crf'>"
      ]
     },
     "execution_count": 57,
     "metadata": {},
     "output_type": "execute_result"
    }
   ],
   "source": [
    "PMLcrf_name = str(processing_dir + '\\\\CRF\\\\' + mosaic_name + \".crf\")\n",
    "arcpy.management.CopyRaster(\n",
    "    in_raster=mosaic_path,\n",
    "    out_rasterdataset=PMLcrf_name,\n",
    "    config_keyword=\"\",\n",
    "    background_value=None,\n",
    "    nodata_value=\"\",\n",
    "    onebit_to_eightbit=\"NONE\",\n",
    "    colormap_to_RGB=\"NONE\",\n",
    "    pixel_type=\"32_BIT_FLOAT\",\n",
    "    scale_pixel_value=\"NONE\",\n",
    "    RGB_to_Colormap=\"NONE\",\n",
    "    format=\"CRF\",\n",
    "    transform=\"NONE\",\n",
    "    process_as_multidimensional=\"ALL_SLICES\",\n",
    "    build_multidimensional_transpose=\"TRANSPOSE\"\n",
    ")"
   ]
  },
  {
   "cell_type": "code",
   "execution_count": 72,
   "metadata": {},
   "outputs": [],
   "source": [
    "PMLcrf_name = str(processing_dir + '\\\\CRF\\\\' + mosaic_name + \".crf\")\n",
    "arcpy.management.CopyRaster(\n",
    "    in_raster=VIIRSmosaic_path,\n",
    "    out_rasterdataset=PMLcrf_name,\n",
    "    config_keyword=\"\",\n",
    "    background_value=None,\n",
    "    nodata_value=\"\",\n",
    "    onebit_to_eightbit=\"NONE\",\n",
    "    colormap_to_RGB=\"NONE\",\n",
    "    pixel_type=\"32_BIT_FLOAT\",\n",
    "    scale_pixel_value=\"NONE\",\n",
    "    RGB_to_Colormap=\"NONE\",\n",
    "    format=\"CRF\",\n",
    "    transform=\"NONE\",\n",
    "    process_as_multidimensional=\"ALL_SLICES\",\n",
    "    build_multidimensional_transpose=\"TRANSPOSE\"\n",
    ")"
   ]
  }
 ],
 "metadata": {
  "kernelspec": {
   "display_name": "Python 3",
   "language": "python",
   "name": "python3"
  },
  "language_info": {
   "codemirror_mode": {
    "name": "ipython",
    "version": 3
   },
   "file_extension": ".py",
   "mimetype": "text/x-python",
   "name": "python",
   "nbconvert_exporter": "python",
   "pygments_lexer": "ipython3",
   "version": "3.9.16"
  }
 },
 "nbformat": 4,
 "nbformat_minor": 2
}
